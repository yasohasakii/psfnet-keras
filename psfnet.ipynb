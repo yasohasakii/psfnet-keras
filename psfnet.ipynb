{
  "nbformat": 4,
  "nbformat_minor": 0,
  "metadata": {
    "colab": {
      "name": "psfnet.ipynb",
      "version": "0.3.2",
      "provenance": [],
      "private_outputs": true,
      "collapsed_sections": []
    },
    "kernelspec": {
      "name": "python3",
      "display_name": "Python 3"
    },
    "accelerator": "GPU"
  },
  "cells": [
    {
      "cell_type": "code",
      "metadata": {
        "colab_type": "code",
        "id": "sH4z6SuuE0oo",
        "colab": {}
      },
      "source": [
        "# use github data\n",
        "!pip install git+https://www.github.com/keras-team/keras-contrib.git\n",
        "!git clone https://github.com/yasohasakii/psfnet-keras.git\n",
        "!mv ./psfnet-keras/* ./\n",
        "!rm -r ./psfnet-keras\n",
        "\n",
        "#change mat into npy\n",
        "import scipy.io\n",
        "import numpy as np\n",
        "from network import model"
      ],
      "execution_count": 0,
      "outputs": []
    },
    {
      "cell_type": "code",
      "metadata": {
        "colab_type": "code",
        "id": "Lu1v0ORTLl3y",
        "colab": {}
      },
      "source": [
        "#use your own data\n",
        "from google.colab import files\n",
        "\n",
        "uploaded = files.upload()\n",
        "\n",
        "for fn in uploaded.keys():\n",
        "  print('User uploaded file \"{name}\" with length {length} bytes'.format(\n",
        "      name=fn, length=len(uploaded[fn])))"
      ],
      "execution_count": 0,
      "outputs": []
    },
    {
      "cell_type": "code",
      "metadata": {
        "id": "mnFUieaggF1P",
        "colab_type": "code",
        "colab": {}
      },
      "source": [
        "\n",
        "! rm -r *"
      ],
      "execution_count": 0,
      "outputs": []
    },
    {
      "cell_type": "code",
      "metadata": {
        "colab_type": "code",
        "id": "RKiPKkCXWTlh",
        "colab": {}
      },
      "source": [
        "psfnet = model()\n",
        "psfnet.train(epochs=200, batch_size=1, sample_interval=200)"
      ],
      "execution_count": 0,
      "outputs": []
    },
    {
      "cell_type": "code",
      "metadata": {
        "colab_type": "code",
        "id": "GonwaOBfW2cD",
        "colab": {}
      },
      "source": [
        "!nvidia-smi"
      ],
      "execution_count": 0,
      "outputs": []
    },
    {
      "cell_type": "code",
      "metadata": {
        "colab_type": "code",
        "id": "6TmciRjCWaZp",
        "colab": {}
      },
      "source": [
        "if __name__ == '__main__':\n",
        "    tfconfig = tf.ConfigProto(allow_soft_placement=True)\n",
        "    tfconfig.gpu_options.allow_growth = True\n",
        "    with tf.Session(config=tfconfig) as sess:\n",
        "        psfnet = PSFNET(sess,200,'model/','test', 'log',False)\n",
        "        psfnet.train('input/trainB',Continue=False)"
      ],
      "execution_count": 0,
      "outputs": []
    },
    {
      "cell_type": "code",
      "metadata": {
        "colab_type": "code",
        "id": "N0CbMWfDldx7",
        "colab": {}
      },
      "source": [
        "#down result from google\n",
        "from google.colab import files\n",
        "download_list = os.listdir('test')\n",
        "for file in download_list:\n",
        "    files.download(os.path.join('test',file))"
      ],
      "execution_count": 0,
      "outputs": []
    }
  ]
}